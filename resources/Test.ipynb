{
  "nbformat": 4,
  "nbformat_minor": 0,
  "metadata": {
    "colab": {
      "name": "Test.ipynb",
      "provenance": [],
      "collapsed_sections": []
    },
    "kernelspec": {
      "name": "python3",
      "display_name": "Python 3"
    },
    "language_info": {
      "name": "python"
    }
  },
  "cells": [
    {
      "cell_type": "code",
      "metadata": {
        "colab": {
          "base_uri": "https://localhost:8080/"
        },
        "id": "qyJ3N-zM-LPJ",
        "outputId": "ef6f987b-ff8b-4d1c-c088-7396fb32dddb"
      },
      "source": [
        "from google.colab import drive\n",
        "drive.mount('/content/drive')"
      ],
      "execution_count": null,
      "outputs": [
        {
          "output_type": "stream",
          "name": "stdout",
          "text": [
            "Drive already mounted at /content/drive; to attempt to forcibly remount, call drive.mount(\"/content/drive\", force_remount=True).\n"
          ]
        }
      ]
    },
    {
      "cell_type": "code",
      "metadata": {
        "id": "JoitzJRf-Si_"
      },
      "source": [
        "from tensorflow.keras.models import load_model\n",
        "\n",
        "mobileNetV2 = load_model('/content/drive/MyDrive/models/first_model.h5')\n",
        "efficientNet = load_model('/content/drive/MyDrive/models/second_model.h5')"
      ],
      "execution_count": null,
      "outputs": []
    },
    {
      "cell_type": "code",
      "metadata": {
        "id": "L4UmkxxTEFS5"
      },
      "source": [
        "# set the env var for the json file path\n",
        "import os\n",
        "\n",
        "os.environ['KAGGLE_CONFIG_DIR'] = '/content/drive/MyDrive/kaggle'"
      ],
      "execution_count": null,
      "outputs": []
    },
    {
      "cell_type": "code",
      "metadata": {
        "colab": {
          "base_uri": "https://localhost:8080/"
        },
        "id": "Xm_yG3EI_Ttw",
        "outputId": "330789f6-322a-4f3a-8706-0f0d565586f4"
      },
      "source": [
        "!kaggle datasets list -s 'SARS-COV-2 Ct-Scan Dataset'"
      ],
      "execution_count": null,
      "outputs": [
        {
          "output_type": "stream",
          "name": "stdout",
          "text": [
            "Warning: Looks like you're using an outdated API Version, please consider updating (server 1.5.12 / client 1.5.4)\n",
            "ref                                                     title                                              size  lastUpdated          downloadCount  \n",
            "------------------------------------------------------  ------------------------------------------------  -----  -------------------  -------------  \n",
            "plameneduardo/sarscov2-ctscan-dataset                   SARS-COV-2 Ct-Scan Dataset                        230MB  2020-05-30 12:48:27           6481  \n",
            "plameneduardo/a-covid-multiclass-dataset-of-ct-scans    A COVID multiclass dataset of CT scans            405MB  2020-06-11 08:12:39            297  \n",
            "azaemon/preprocessed-ct-scans-for-covid19               CT Scans for COVID-19 Classification                4GB  2020-08-11 19:36:14           1262  \n",
            "mehradaria/covid19-lung-ct-scans                        COVID-19 Lung CT Scans                              1GB  2021-01-24 21:41:47            190  \n",
            "mloey1/covid19-chest-ct-image-augmentation-gan-dataset  COVID-19 Chest CT image Augmentation GAN Dataset    2GB  2021-01-31 19:56:33            193  \n",
            "crained/covid19-china                                   COVID-19 China                                     86MB  2020-09-18 11:35:42             53  \n"
          ]
        }
      ]
    },
    {
      "cell_type": "code",
      "metadata": {
        "colab": {
          "base_uri": "https://localhost:8080/"
        },
        "id": "BonXo5TCCb0a",
        "outputId": "64c13684-7b4f-4ef8-a961-04c15830f893"
      },
      "source": [
        "!kaggle datasets download -d plameneduardo/sarscov2-ctscan-dataset"
      ],
      "execution_count": null,
      "outputs": [
        {
          "output_type": "stream",
          "name": "stdout",
          "text": [
            "Downloading sarscov2-ctscan-dataset.zip to /content\n",
            " 97% 223M/230M [00:01<00:00, 146MB/s]\n",
            "100% 230M/230M [00:01<00:00, 121MB/s]\n"
          ]
        }
      ]
    },
    {
      "cell_type": "code",
      "metadata": {
        "id": "S3U0ZQZDEXTg"
      },
      "source": [
        "!unzip -q sarscov2-ctscan-dataset.zip"
      ],
      "execution_count": null,
      "outputs": []
    },
    {
      "cell_type": "code",
      "metadata": {
        "id": "xOv7TJb5E-KJ"
      },
      "source": [
        "import cv2\n",
        "import os\n",
        "import numpy as np\n",
        "from sklearn.preprocessing import LabelEncoder , OneHotEncoder\n",
        "from tensorflow.keras import *\n",
        "from sklearn.metrics import classification_report\n",
        "from sklearn.metrics import plot_confusion_matrix, confusion_matrix\n",
        "import itertools\n",
        "from tensorflow.keras.layers import Dense\n",
        "import matplotlib.pyplot as plt"
      ],
      "execution_count": null,
      "outputs": []
    },
    {
      "cell_type": "code",
      "metadata": {
        "id": "SYfrRTBlEfOI"
      },
      "source": [
        "folders = ['COVID','non-COVID']\n",
        "base_folder = '/content'\n",
        "data = []\n",
        "labels = []\n",
        "\n",
        "for folder in folders :\n",
        "  files = os.listdir(os.path.join(base_folder, folder))\n",
        "  for file in files:\n",
        "    img = cv2.imread(os.path.join(base_folder, folder, file),0)\n",
        "    img = cv2.resize(img, (112, 112))\n",
        "    data.append(img)\n",
        "    labels.append(folder)"
      ],
      "execution_count": null,
      "outputs": []
    },
    {
      "cell_type": "code",
      "metadata": {
        "id": "YQeOI3itFP4g"
      },
      "source": [
        "data = data.reshape(-1, 112, 112, 1)"
      ],
      "execution_count": null,
      "outputs": []
    },
    {
      "cell_type": "code",
      "metadata": {
        "colab": {
          "base_uri": "https://localhost:8080/"
        },
        "id": "AZBOFCM5E7Z_",
        "outputId": "e5b47ed9-c2bd-4cec-e523-3bba212781ef"
      },
      "source": [
        "data = np.array(data)\n",
        "labels = np.array(labels)\n",
        "print(data.shape)\n",
        "print(labels.shape)"
      ],
      "execution_count": null,
      "outputs": [
        {
          "output_type": "stream",
          "name": "stdout",
          "text": [
            "(2481, 112, 112, 1)\n",
            "(2481,)\n"
          ]
        }
      ]
    },
    {
      "cell_type": "code",
      "metadata": {
        "id": "BYkYKk6FFqFB"
      },
      "source": [
        "data = data / 255."
      ],
      "execution_count": null,
      "outputs": []
    },
    {
      "cell_type": "code",
      "metadata": {
        "colab": {
          "base_uri": "https://localhost:8080/"
        },
        "id": "cd4FmBBRFy8K",
        "outputId": "9a6d81a4-25a9-47d2-f2bb-f77eda34386b"
      },
      "source": [
        "encode = LabelEncoder()\n",
        "onehotencoder = OneHotEncoder()\n",
        "\n",
        "labels = encode.fit_transform(labels)\n",
        "encode_labels = labels.reshape(-1,1)\n",
        "print(encode_labels)"
      ],
      "execution_count": null,
      "outputs": [
        {
          "output_type": "stream",
          "name": "stdout",
          "text": [
            "[[0]\n",
            " [0]\n",
            " [0]\n",
            " ...\n",
            " [1]\n",
            " [1]\n",
            " [1]]\n",
            "[[1. 0.]\n",
            " [1. 0.]\n",
            " [1. 0.]\n",
            " ...\n",
            " [0. 1.]\n",
            " [0. 1.]\n",
            " [0. 1.]]\n"
          ]
        }
      ]
    },
    {
      "cell_type": "code",
      "metadata": {
        "id": "rDakUbu-FOPi"
      },
      "source": [
        "prediction = mobileNetV2.predict(data)"
      ],
      "execution_count": null,
      "outputs": []
    },
    {
      "cell_type": "code",
      "metadata": {
        "id": "Em-6HwFgGNA6"
      },
      "source": [
        "mobileNet_predictions = backend.argmax(prediction).numpy()"
      ],
      "execution_count": null,
      "outputs": []
    },
    {
      "cell_type": "code",
      "metadata": {
        "id": "Tj9Rypp7GkVr"
      },
      "source": [
        "mobileNet_predictions[mobileNet_predictions > 0] = 1"
      ],
      "execution_count": null,
      "outputs": []
    },
    {
      "cell_type": "code",
      "metadata": {
        "colab": {
          "base_uri": "https://localhost:8080/"
        },
        "id": "kKEJnoaLJR9n",
        "outputId": "e0fb2931-d44a-4c78-df02-6f97d0bc2070"
      },
      "source": [
        "mobileNet_predictions.max()"
      ],
      "execution_count": null,
      "outputs": [
        {
          "output_type": "execute_result",
          "data": {
            "text/plain": [
              "1"
            ]
          },
          "metadata": {},
          "execution_count": 33
        }
      ]
    },
    {
      "cell_type": "code",
      "metadata": {
        "id": "5jUowCjEJ09J"
      },
      "source": [
        "def print_res(classes, predictions, labels):\n",
        "  print(classification_report(labels,predictions))\n",
        "  cm = confusion_matrix(labels,predictions)\n",
        "  plt.imshow(cm, interpolation='nearest', cmap=plt.cm.Blues)\n",
        "  plt.title('Confusion matrix')\n",
        "  plt.colorbar()\n",
        "  tick_marks = np.arange(len(classes))\n",
        "  plt.xticks(tick_marks, classes, rotation=45)\n",
        "  plt.yticks(tick_marks, classes)\n",
        "  thresh = cm.max() / 2.\n",
        "  for i, j in itertools.product(range(cm.shape[0]), range(cm.shape[1])):\n",
        "    plt.text(j, i, cm[i, j],\n",
        "             horizontalalignment=\"center\",\n",
        "             color=\"white\" if cm[i, j] > thresh else \"black\")\n",
        "  plt.tight_layout()\n",
        "  plt.ylabel('True label')\n",
        "  plt.xlabel('Predicted label')"
      ],
      "execution_count": null,
      "outputs": []
    },
    {
      "cell_type": "code",
      "metadata": {
        "colab": {
          "base_uri": "https://localhost:8080/",
          "height": 464
        },
        "id": "NT6V_CAIJUO1",
        "outputId": "5a0e9bf2-f5e5-4a00-83e3-9e804ff26ac7"
      },
      "source": [
        "classes = ['COVID','non-COVID']\n",
        "\n",
        "print_res(classes, mobileNet_predictions, encode_labels)"
      ],
      "execution_count": null,
      "outputs": [
        {
          "output_type": "stream",
          "name": "stdout",
          "text": [
            "              precision    recall  f1-score   support\n",
            "\n",
            "           0       0.54      0.81      0.65      1252\n",
            "           1       0.61      0.31      0.41      1229\n",
            "\n",
            "    accuracy                           0.56      2481\n",
            "   macro avg       0.58      0.56      0.53      2481\n",
            "weighted avg       0.58      0.56      0.53      2481\n",
            "\n"
          ]
        },
        {
          "output_type": "display_data",
          "data": {
            "image/png": "[encoded data removed]",
            "text/plain": [
              "<Figure size 432x288 with 2 Axes>"
            ]
          },
          "metadata": {
            "needs_background": "light"
          }
        }
      ]
    },
    {
      "cell_type": "code",
      "metadata": {
        "id": "waQzYaQpJmmZ"
      },
      "source": [
        "prediction = efficientNet.predict(data)"
      ],
      "execution_count": null,
      "outputs": []
    },
    {
      "cell_type": "code",
      "metadata": {
        "id": "ShCCu6KjKRzQ"
      },
      "source": [
        "efficientNet_predictions = backend.argmax(prediction).numpy()"
      ],
      "execution_count": null,
      "outputs": []
    },
    {
      "cell_type": "code",
      "metadata": {
        "id": "8vIyNDRqKYvd"
      },
      "source": [
        "efficientNet_predictions[efficientNet_predictions > 0] = 1"
      ],
      "execution_count": null,
      "outputs": []
    },
    {
      "cell_type": "code",
      "metadata": {
        "colab": {
          "base_uri": "https://localhost:8080/"
        },
        "id": "DI3zA0DrKbwz",
        "outputId": "636f3858-4995-4bbd-d2dc-0f262e3e345a"
      },
      "source": [
        "efficientNet_predictions.max()"
      ],
      "execution_count": null,
      "outputs": [
        {
          "output_type": "execute_result",
          "data": {
            "text/plain": [
              "0"
            ]
          },
          "metadata": {},
          "execution_count": 45
        }
      ]
    },
    {
      "cell_type": "code",
      "metadata": {
        "colab": {
          "base_uri": "https://localhost:8080/",
          "height": 518
        },
        "id": "Vyth0p5BKcQW",
        "outputId": "21fd69db-474f-4acd-92f3-ba3593a660f5"
      },
      "source": [
        "print_res(classes, efficientNet_predictions, encode_labels)"
      ],
      "execution_count": null,
      "outputs": [
        {
          "output_type": "stream",
          "name": "stderr",
          "text": [
            "/usr/local/lib/python3.7/dist-packages/sklearn/metrics/_classification.py:1272: UndefinedMetricWarning: Precision and F-score are ill-defined and being set to 0.0 in labels with no predicted samples. Use `zero_division` parameter to control this behavior.\n",
            "  _warn_prf(average, modifier, msg_start, len(result))\n"
          ]
        },
        {
          "output_type": "stream",
          "name": "stdout",
          "text": [
            "              precision    recall  f1-score   support\n",
            "\n",
            "           0       0.50      1.00      0.67      1252\n",
            "           1       0.00      0.00      0.00      1229\n",
            "\n",
            "    accuracy                           0.50      2481\n",
            "   macro avg       0.25      0.50      0.34      2481\n",
            "weighted avg       0.25      0.50      0.34      2481\n",
            "\n"
          ]
        },
        {
          "output_type": "display_data",
          "data": {
            "image/png": "[encoded data removed]",
            "text/plain": [
              "<Figure size 432x288 with 2 Axes>"
            ]
          },
          "metadata": {
            "needs_background": "light"
          }
        }
      ]
    },
    {
      "cell_type": "code",
      "metadata": {
        "id": "w7ae1fgzKi3a"
      },
      "source": [
        "import zipfile\n",
        "import os"
      ],
      "execution_count": null,
      "outputs": []
    },
    {
      "cell_type": "code",
      "metadata": {
        "colab": {
          "base_uri": "https://localhost:8080/"
        },
        "id": "mQMHU1DwjbXM",
        "outputId": "885f4a2e-a09e-43be-a438-7d953ac7c7d3"
      },
      "source": [
        "!wget --no-check-certificate \\\n",
        "    \"https://github.com/abzargar/COVID-Classifier/archive/refs/heads/master.zip\"\n",
        "\n",
        "!unzip -q master.zip"
      ],
      "execution_count": null,
      "outputs": [
        {
          "output_type": "stream",
          "name": "stdout",
          "text": [
            "--2021-10-06 07:45:23--  https://github.com/abzargar/COVID-Classifier/archive/refs/heads/master.zip\n",
            "Resolving github.com (github.com)... 140.82.113.3\n",
            "Connecting to github.com (github.com)|140.82.113.3|:443... connected.\n",
            "HTTP request sent, awaiting response... 302 Found\n",
            "Location: https://codeload.github.com/abzargar/COVID-Classifier/zip/refs/heads/master [following]\n",
            "--2021-10-06 07:45:24--  https://codeload.github.com/abzargar/COVID-Classifier/zip/refs/heads/master\n",
            "Resolving codeload.github.com (codeload.github.com)... 140.82.114.9\n",
            "Connecting to codeload.github.com (codeload.github.com)|140.82.114.9|:443... connected.\n",
            "HTTP request sent, awaiting response... 200 OK\n",
            "Length: unspecified [application/zip]\n",
            "Saving to: ‘master.zip.1’\n",
            "\n",
            "master.zip.1            [         <=>        ] 129.03M  25.5MB/s    in 5.4s    \n",
            "\n",
            "2021-10-06 07:45:29 (23.8 MB/s) - ‘master.zip.1’ saved [135300788]\n",
            "\n"
          ]
        }
      ]
    },
    {
      "cell_type": "code",
      "metadata": {
        "id": "zwHlivvWj5KQ"
      },
      "source": [
        "folders = ['covid','normal', 'pneumonia']\n",
        "base_folder = '/content/COVID-Classifier-master/dataset/original_images'\n",
        "data = []\n",
        "labels = []\n",
        "\n",
        "for folder in folders :\n",
        "  files = os.listdir(os.path.join(base_folder, folder))\n",
        "  for file in files:\n",
        "    img = cv2.imread(os.path.join(base_folder, folder, file),0)\n",
        "    try:\n",
        "      img = cv2.resize(img, (112, 112))\n",
        "    except:\n",
        "      continue\n",
        "    data.append(img)\n",
        "    labels.append(folder)"
      ],
      "execution_count": null,
      "outputs": []
    },
    {
      "cell_type": "code",
      "metadata": {
        "colab": {
          "base_uri": "https://localhost:8080/"
        },
        "id": "YJ2mRt_llRyI",
        "outputId": "539df96a-d86f-4f5b-9b56-3ce4a76235be"
      },
      "source": [
        "data = np.array(data)\n",
        "labels = np.array(labels)\n",
        "print(data.shape)\n",
        "print(labels.shape)"
      ],
      "execution_count": null,
      "outputs": [
        {
          "output_type": "stream",
          "name": "stdout",
          "text": [
            "(380, 112, 112)\n",
            "(380,)\n"
          ]
        }
      ]
    },
    {
      "cell_type": "code",
      "metadata": {
        "id": "Ck4Q4MhrkgCj"
      },
      "source": [
        "data = data.reshape(-1, 112, 112, 1)"
      ],
      "execution_count": null,
      "outputs": []
    },
    {
      "cell_type": "code",
      "metadata": {
        "id": "RBXY-7j-lSHU"
      },
      "source": [
        "data = data/255."
      ],
      "execution_count": null,
      "outputs": []
    },
    {
      "cell_type": "code",
      "metadata": {
        "id": "SKV62m8albqx"
      },
      "source": [
        "encode = LabelEncoder()\n",
        "onehotencoder = OneHotEncoder()\n",
        "\n",
        "labels = encode.fit_transform(labels)\n",
        "encode_labels = labels.reshape(-1,1)\n",
        "\n",
        "encode_labels[encode_labels == 2] = 3\n",
        "encode_labels[encode_labels == 1] = 2\n"
      ],
      "execution_count": null,
      "outputs": []
    },
    {
      "cell_type": "code",
      "metadata": {
        "colab": {
          "base_uri": "https://localhost:8080/"
        },
        "id": "bk5zzK-aoauq",
        "outputId": "4688a53e-3a05-4b11-c1cc-09db282223ef"
      },
      "source": [
        "print(encode_labels)"
      ],
      "execution_count": null,
      "outputs": [
        {
          "output_type": "stream",
          "name": "stdout",
          "text": [
            "[[0]\n",
            " [0]\n",
            " [0]\n",
            " [0]\n",
            " [0]\n",
            " [0]\n",
            " [0]\n",
            " [0]\n",
            " [0]\n",
            " [0]\n",
            " [0]\n",
            " [0]\n",
            " [0]\n",
            " [0]\n",
            " [0]\n",
            " [0]\n",
            " [0]\n",
            " [0]\n",
            " [0]\n",
            " [0]\n",
            " [0]\n",
            " [0]\n",
            " [0]\n",
            " [0]\n",
            " [0]\n",
            " [0]\n",
            " [0]\n",
            " [0]\n",
            " [0]\n",
            " [0]\n",
            " [0]\n",
            " [0]\n",
            " [0]\n",
            " [0]\n",
            " [0]\n",
            " [0]\n",
            " [0]\n",
            " [0]\n",
            " [0]\n",
            " [0]\n",
            " [0]\n",
            " [0]\n",
            " [0]\n",
            " [0]\n",
            " [0]\n",
            " [0]\n",
            " [0]\n",
            " [0]\n",
            " [0]\n",
            " [0]\n",
            " [0]\n",
            " [0]\n",
            " [0]\n",
            " [0]\n",
            " [0]\n",
            " [0]\n",
            " [0]\n",
            " [0]\n",
            " [0]\n",
            " [0]\n",
            " [0]\n",
            " [0]\n",
            " [0]\n",
            " [0]\n",
            " [0]\n",
            " [0]\n",
            " [0]\n",
            " [0]\n",
            " [0]\n",
            " [0]\n",
            " [0]\n",
            " [0]\n",
            " [0]\n",
            " [0]\n",
            " [0]\n",
            " [0]\n",
            " [0]\n",
            " [0]\n",
            " [0]\n",
            " [0]\n",
            " [0]\n",
            " [0]\n",
            " [0]\n",
            " [0]\n",
            " [0]\n",
            " [0]\n",
            " [0]\n",
            " [0]\n",
            " [0]\n",
            " [0]\n",
            " [0]\n",
            " [0]\n",
            " [0]\n",
            " [0]\n",
            " [0]\n",
            " [0]\n",
            " [0]\n",
            " [0]\n",
            " [0]\n",
            " [0]\n",
            " [0]\n",
            " [0]\n",
            " [0]\n",
            " [0]\n",
            " [0]\n",
            " [0]\n",
            " [0]\n",
            " [0]\n",
            " [0]\n",
            " [0]\n",
            " [0]\n",
            " [0]\n",
            " [0]\n",
            " [0]\n",
            " [0]\n",
            " [0]\n",
            " [0]\n",
            " [0]\n",
            " [0]\n",
            " [0]\n",
            " [0]\n",
            " [0]\n",
            " [0]\n",
            " [0]\n",
            " [0]\n",
            " [0]\n",
            " [0]\n",
            " [0]\n",
            " [0]\n",
            " [0]\n",
            " [0]\n",
            " [0]\n",
            " [0]\n",
            " [0]\n",
            " [0]\n",
            " [0]\n",
            " [0]\n",
            " [0]\n",
            " [0]\n",
            " [0]\n",
            " [2]\n",
            " [2]\n",
            " [2]\n",
            " [2]\n",
            " [2]\n",
            " [2]\n",
            " [2]\n",
            " [2]\n",
            " [2]\n",
            " [2]\n",
            " [2]\n",
            " [2]\n",
            " [2]\n",
            " [2]\n",
            " [2]\n",
            " [2]\n",
            " [2]\n",
            " [2]\n",
            " [2]\n",
            " [2]\n",
            " [2]\n",
            " [2]\n",
            " [2]\n",
            " [2]\n",
            " [2]\n",
            " [2]\n",
            " [2]\n",
            " [2]\n",
            " [2]\n",
            " [2]\n",
            " [2]\n",
            " [2]\n",
            " [2]\n",
            " [2]\n",
            " [2]\n",
            " [2]\n",
            " [2]\n",
            " [2]\n",
            " [2]\n",
            " [2]\n",
            " [2]\n",
            " [2]\n",
            " [2]\n",
            " [2]\n",
            " [2]\n",
            " [2]\n",
            " [2]\n",
            " [2]\n",
            " [2]\n",
            " [2]\n",
            " [2]\n",
            " [2]\n",
            " [2]\n",
            " [2]\n",
            " [2]\n",
            " [2]\n",
            " [2]\n",
            " [2]\n",
            " [2]\n",
            " [2]\n",
            " [2]\n",
            " [2]\n",
            " [2]\n",
            " [2]\n",
            " [2]\n",
            " [2]\n",
            " [2]\n",
            " [2]\n",
            " [2]\n",
            " [2]\n",
            " [2]\n",
            " [2]\n",
            " [2]\n",
            " [2]\n",
            " [2]\n",
            " [2]\n",
            " [2]\n",
            " [2]\n",
            " [2]\n",
            " [2]\n",
            " [2]\n",
            " [2]\n",
            " [2]\n",
            " [2]\n",
            " [2]\n",
            " [2]\n",
            " [2]\n",
            " [2]\n",
            " [2]\n",
            " [2]\n",
            " [2]\n",
            " [2]\n",
            " [2]\n",
            " [2]\n",
            " [2]\n",
            " [2]\n",
            " [2]\n",
            " [2]\n",
            " [2]\n",
            " [2]\n",
            " [3]\n",
            " [3]\n",
            " [3]\n",
            " [3]\n",
            " [3]\n",
            " [3]\n",
            " [3]\n",
            " [3]\n",
            " [3]\n",
            " [3]\n",
            " [3]\n",
            " [3]\n",
            " [3]\n",
            " [3]\n",
            " [3]\n",
            " [3]\n",
            " [3]\n",
            " [3]\n",
            " [3]\n",
            " [3]\n",
            " [3]\n",
            " [3]\n",
            " [3]\n",
            " [3]\n",
            " [3]\n",
            " [3]\n",
            " [3]\n",
            " [3]\n",
            " [3]\n",
            " [3]\n",
            " [3]\n",
            " [3]\n",
            " [3]\n",
            " [3]\n",
            " [3]\n",
            " [3]\n",
            " [3]\n",
            " [3]\n",
            " [3]\n",
            " [3]\n",
            " [3]\n",
            " [3]\n",
            " [3]\n",
            " [3]\n",
            " [3]\n",
            " [3]\n",
            " [3]\n",
            " [3]\n",
            " [3]\n",
            " [3]\n",
            " [3]\n",
            " [3]\n",
            " [3]\n",
            " [3]\n",
            " [3]\n",
            " [3]\n",
            " [3]\n",
            " [3]\n",
            " [3]\n",
            " [3]\n",
            " [3]\n",
            " [3]\n",
            " [3]\n",
            " [3]\n",
            " [3]\n",
            " [3]\n",
            " [3]\n",
            " [3]\n",
            " [3]\n",
            " [3]\n",
            " [3]\n",
            " [3]\n",
            " [3]\n",
            " [3]\n",
            " [3]\n",
            " [3]\n",
            " [3]\n",
            " [3]\n",
            " [3]\n",
            " [3]\n",
            " [3]\n",
            " [3]\n",
            " [3]\n",
            " [3]\n",
            " [3]\n",
            " [3]\n",
            " [3]\n",
            " [3]\n",
            " [3]\n",
            " [3]\n",
            " [3]\n",
            " [3]\n",
            " [3]\n",
            " [3]\n",
            " [3]\n",
            " [3]\n",
            " [3]\n",
            " [3]\n",
            " [3]\n",
            " [3]\n",
            " [3]\n",
            " [3]\n",
            " [3]\n",
            " [3]\n",
            " [3]\n",
            " [3]\n",
            " [3]\n",
            " [3]\n",
            " [3]\n",
            " [3]\n",
            " [3]\n",
            " [3]\n",
            " [3]\n",
            " [3]\n",
            " [3]\n",
            " [3]\n",
            " [3]\n",
            " [3]\n",
            " [3]\n",
            " [3]\n",
            " [3]\n",
            " [3]\n",
            " [3]\n",
            " [3]\n",
            " [3]\n",
            " [3]\n",
            " [3]\n",
            " [3]\n",
            " [3]\n",
            " [3]\n",
            " [3]\n",
            " [3]\n",
            " [3]\n",
            " [3]\n",
            " [3]\n",
            " [3]\n",
            " [3]\n",
            " [3]\n",
            " [3]\n",
            " [3]]\n"
          ]
        }
      ]
    },
    {
      "cell_type": "code",
      "metadata": {
        "id": "GHuZrPSWlgka"
      },
      "source": [
        "prediction = mobileNetV2.predict(data)"
      ],
      "execution_count": null,
      "outputs": []
    },
    {
      "cell_type": "code",
      "metadata": {
        "id": "aU_KMdkPlrm5"
      },
      "source": [
        "mobileNet_predictions = backend.argmax(prediction).numpy()"
      ],
      "execution_count": null,
      "outputs": []
    },
    {
      "cell_type": "code",
      "metadata": {
        "colab": {
          "base_uri": "https://localhost:8080/",
          "height": 552
        },
        "id": "TTOIH7qAl80z",
        "outputId": "e0210e49-66ac-4e73-cb82-396848c8c257"
      },
      "source": [
        "classes = ['covid','Lung Opacity','normal', 'pneumonia']\n",
        "\n",
        "print_res(classes, mobileNet_predictions, encode_labels)"
      ],
      "execution_count": null,
      "outputs": [
        {
          "output_type": "stream",
          "name": "stderr",
          "text": [
            "/usr/local/lib/python3.7/dist-packages/sklearn/metrics/_classification.py:1272: UndefinedMetricWarning: Recall and F-score are ill-defined and being set to 0.0 in labels with no true samples. Use `zero_division` parameter to control this behavior.\n",
            "  _warn_prf(average, modifier, msg_start, len(result))\n"
          ]
        },
        {
          "output_type": "stream",
          "name": "stdout",
          "text": [
            "              precision    recall  f1-score   support\n",
            "\n",
            "           0       0.85      0.68      0.75       140\n",
            "           1       0.00      0.00      0.00         0\n",
            "           2       0.88      0.63      0.73       100\n",
            "           3       0.87      0.93      0.90       140\n",
            "\n",
            "    accuracy                           0.76       380\n",
            "   macro avg       0.65      0.56      0.60       380\n",
            "weighted avg       0.86      0.76      0.80       380\n",
            "\n"
          ]
        },
        {
          "output_type": "display_data",
          "data": {
            "image/png": "[encoded data removed]",
            "text/plain": [
              "<Figure size 432x288 with 2 Axes>"
            ]
          },
          "metadata": {
            "needs_background": "light"
          }
        }
      ]
    },
    {
      "cell_type": "code",
      "metadata": {
        "id": "b55fYVw0p7K8"
      },
      "source": [
        "prediction = efficientNet.predict(data)"
      ],
      "execution_count": null,
      "outputs": []
    },
    {
      "cell_type": "code",
      "metadata": {
        "id": "ggAD-BhMp7K-"
      },
      "source": [
        "efficientNet_predictions = backend.argmax(prediction).numpy()"
      ],
      "execution_count": null,
      "outputs": []
    },
    {
      "cell_type": "code",
      "metadata": {
        "colab": {
          "base_uri": "https://localhost:8080/",
          "height": 535
        },
        "id": "PPQjfiKep7LA",
        "outputId": "a884a2bc-5a3a-4d06-8fee-53807d52fab5"
      },
      "source": [
        "classes = ['covid','Lung Opacity','normal', 'pneumonia']\n",
        "\n",
        "print_res(classes, efficientNet_predictions, encode_labels)"
      ],
      "execution_count": null,
      "outputs": [
        {
          "output_type": "stream",
          "name": "stderr",
          "text": [
            "/usr/local/lib/python3.7/dist-packages/sklearn/metrics/_classification.py:1272: UndefinedMetricWarning: Precision and F-score are ill-defined and being set to 0.0 in labels with no predicted samples. Use `zero_division` parameter to control this behavior.\n",
            "  _warn_prf(average, modifier, msg_start, len(result))\n"
          ]
        },
        {
          "output_type": "stream",
          "name": "stdout",
          "text": [
            "              precision    recall  f1-score   support\n",
            "\n",
            "           0       0.37      1.00      0.54       140\n",
            "           2       0.00      0.00      0.00       100\n",
            "           3       0.00      0.00      0.00       140\n",
            "\n",
            "    accuracy                           0.37       380\n",
            "   macro avg       0.12      0.33      0.18       380\n",
            "weighted avg       0.14      0.37      0.20       380\n",
            "\n"
          ]
        },
        {
          "output_type": "display_data",
          "data": {
            "image/png": "[encoded data removed]",
            "text/plain": [
              "<Figure size 432x288 with 2 Axes>"
            ]
          },
          "metadata": {
            "needs_background": "light"
          }
        }
      ]
    },
    {
      "cell_type": "code",
      "metadata": {
        "id": "E97Ysfl9qbyl",
        "colab": {
          "base_uri": "https://localhost:8080/"
        },
        "outputId": "349c9fa3-cb19-4bad-e446-a203fd8b6285"
      },
      "source": [
        "!kaggle datasets list -s 'COVID CXR Image Dataset (Research)'"
      ],
      "execution_count": null,
      "outputs": [
        {
          "output_type": "stream",
          "name": "stdout",
          "text": [
            "Warning: Looks like you're using an outdated API Version, please consider updating (server 1.5.12 / client 1.5.4)\n",
            "ref                                                            title                                               size  lastUpdated          downloadCount  \n",
            "-------------------------------------------------------------  -------------------------------------------------  -----  -------------------  -------------  \n",
            "sid321axn/covid-cxr-image-dataset-research                     COVID CXR Image Dataset (Research)                 572MB  2021-07-19 04:49:03            199  \n",
            "tawsifurrahman/covid19-radiography-database                    COVID-19 Radiography Database                      745MB  2021-03-06 18:17:46          32912  \n",
            "andyczhao/covidx-cxr2                                          COVIDx CXR-2                                        12GB  2021-05-31 13:40:19           1709  \n",
            "preetviradiya/covid19-radiography-dataset                      COVID-19 Radiography Dataset                       747MB  2021-05-22 05:04:10           1027  \n",
            "hgunraj/covidxct                                               COVIDx CT                                           29GB  2021-01-19 22:55:00           2552  \n",
            "tawsifurrahman/tuberculosis-tb-chest-xray-dataset              Tuberculosis (TB) Chest X-ray Database             663MB  2021-06-14 09:58:38           2184  \n",
            "jonathanchan/dlai3-hackathon-phase3-covid19-cxr-challenge      DLAI3 Hackathon Phase3 COVID-19 CXR Challenge        2GB  2020-07-17 22:22:12            120  \n",
            "darshan1504/covid19-detection-xray-dataset                     COVID-19 Detection X-Ray Dataset                   186MB  2020-03-22 13:17:18           1537  \n",
            "yoctoman/shcxr-lung-mask                                       Lung Masks for Shenzhen Hospital Chest X-ray Set    20MB  2018-03-03 13:29:33           2526  \n",
            "bryanb/vinbigdatastack                                         VinBigData Chest X-ray models                        4MB  2021-03-11 14:06:20            122  \n",
            "davidbroberts/cxr-anatomy-detection                            CXR anatomy detection                               13MB  2021-07-13 16:04:30             28  \n",
            "zainaali/covid2019-dataset-with-chest-xray-images              COVID-2019 Dataset with Chest X-Ray Images         288MB  2020-08-05 19:03:03            150  \n",
            "raddar/emergency-chest-xrays-lifeinthefastlane                 Emergency Chest X-rays (LifeInTheFastLane)           9MB  2020-02-17 23:49:08             19  \n",
            "endiqq/largest-covid19-dataset                                 Extensive and Local Phase Enhanced COVID-19 X-Ray    8GB  2021-04-21 05:32:29             94  \n",
            "alincijov/medical-mnist-qbits                                  Medical MNIST Qbits                                129MB  2021-02-19 05:21:15              9  \n",
            "sachinkumar413/covid-pneumonia-normal-chest-xray-images        COVID19+PNEUMONIA+NORMAL Chest X-Ray Images        277MB  2021-01-18 23:08:48            131  \n",
            "farhanhaikhan/unet-lung-segmentation-weights-for-chest-x-rays  UNET Lung Segmentation Weights for Chest X Rays     27MB  2021-10-04 11:37:55             48  \n",
            "davidbroberts/chest-anatomy-yolov5-train-set                   YOLOv5 - Chest Anatomy Detection training data       8MB  2021-07-21 20:31:56             29  \n",
            "davidbroberts/siimcovid-jpg-512-processed                      SIIM-Covid JPG 512 (processed)                      19GB  2021-07-02 00:20:50             18  \n",
            "murali0861/cxrdata                                             CXR-data                                           414MB  2019-12-02 16:30:27             85  \n"
          ]
        }
      ]
    },
    {
      "cell_type": "code",
      "metadata": {
        "colab": {
          "base_uri": "https://localhost:8080/"
        },
        "id": "PxwoKGkfr0Nb",
        "outputId": "1cfa0612-e3be-487e-84af-59f22d60eee2"
      },
      "source": [
        "!kaggle datasets download -d sid321axn/covid-cxr-image-dataset-research"
      ],
      "execution_count": null,
      "outputs": [
        {
          "output_type": "stream",
          "name": "stdout",
          "text": [
            "Downloading covid-cxr-image-dataset-research.zip to /content\n",
            " 99% 569M/572M [00:06<00:00, 101MB/s]\n",
            "100% 572M/572M [00:06<00:00, 89.8MB/s]\n"
          ]
        }
      ]
    },
    {
      "cell_type": "code",
      "metadata": {
        "id": "wNBaj2sZsBkF"
      },
      "source": [
        "!unzip -q covid-cxr-image-dataset-research.zip"
      ],
      "execution_count": null,
      "outputs": []
    },
    {
      "cell_type": "code",
      "metadata": {
        "id": "5llIUcYZsFCv"
      },
      "source": [
        "folders = ['covid','normal', 'virus']\n",
        "base_folder = '/content/COVID_IEEE'\n",
        "data = []\n",
        "labels = []\n",
        "\n",
        "for folder in folders :\n",
        "  files = os.listdir(os.path.join(base_folder, folder))\n",
        "  for file in files:\n",
        "    img = cv2.imread(os.path.join(base_folder, folder, file),0)\n",
        "    img = cv2.resize(img, (112, 112))\n",
        "    data.append(img)\n",
        "    labels.append(folder)"
      ],
      "execution_count": null,
      "outputs": []
    },
    {
      "cell_type": "code",
      "metadata": {
        "colab": {
          "base_uri": "https://localhost:8080/"
        },
        "id": "XJxA2g4OsYzH",
        "outputId": "cc8e264e-87f5-48e3-c5af-957f91d10b85"
      },
      "source": [
        "data = np.array(data)\n",
        "labels = np.array(labels)\n",
        "print(data.shape)\n",
        "print(labels.shape)"
      ],
      "execution_count": null,
      "outputs": [
        {
          "output_type": "stream",
          "name": "stdout",
          "text": [
            "(1823, 112, 112)\n",
            "(1823,)\n"
          ]
        }
      ]
    },
    {
      "cell_type": "code",
      "metadata": {
        "id": "7WeNof6SskAK"
      },
      "source": [
        "data = data.reshape(-1, 112, 112, 1)"
      ],
      "execution_count": null,
      "outputs": []
    },
    {
      "cell_type": "code",
      "metadata": {
        "id": "mpn6Ujgnsm26"
      },
      "source": [
        "data = data / 255."
      ],
      "execution_count": null,
      "outputs": []
    },
    {
      "cell_type": "code",
      "metadata": {
        "id": "TO8UCF_jso6Y"
      },
      "source": [
        "encode = LabelEncoder()\n",
        "onehotencoder = OneHotEncoder()\n",
        "\n",
        "labels = encode.fit_transform(labels)\n",
        "encode_labels = labels.reshape(-1,1)\n",
        "\n",
        "encode_labels[encode_labels == 2] = 3\n",
        "encode_labels[encode_labels == 1] = 2\n",
        "encode_labels[encode_labels == 3] = 1"
      ],
      "execution_count": null,
      "outputs": []
    },
    {
      "cell_type": "code",
      "metadata": {
        "colab": {
          "base_uri": "https://localhost:8080/"
        },
        "id": "brU4WuxJtDUA",
        "outputId": "9507bdc4-457e-4e58-f344-bb70efde2ca3"
      },
      "source": [
        "encode_labels"
      ],
      "execution_count": null,
      "outputs": [
        {
          "output_type": "execute_result",
          "data": {
            "text/plain": [
              "array([[0],\n",
              "       [0],\n",
              "       [0],\n",
              "       ...,\n",
              "       [1],\n",
              "       [1],\n",
              "       [1]])"
            ]
          },
          "metadata": {},
          "execution_count": 15
        }
      ]
    },
    {
      "cell_type": "code",
      "metadata": {
        "id": "7MCrSrawtExq"
      },
      "source": [
        "prediction = mobileNetV2.predict(data)"
      ],
      "execution_count": null,
      "outputs": []
    },
    {
      "cell_type": "code",
      "metadata": {
        "id": "6RPz2XGatIqt"
      },
      "source": [
        "mobileNet_predictions = backend.argmax(prediction).numpy()"
      ],
      "execution_count": null,
      "outputs": []
    },
    {
      "cell_type": "code",
      "metadata": {
        "id": "FBFsTqM0tMf3"
      },
      "source": [
        "mobileNet_predictions[mobileNet_predictions == 3] = 1"
      ],
      "execution_count": null,
      "outputs": []
    },
    {
      "cell_type": "code",
      "metadata": {
        "colab": {
          "base_uri": "https://localhost:8080/",
          "height": 481
        },
        "id": "Xsb6SdrwtRkY",
        "outputId": "d4ba2c2c-3842-4548-8156-1edafbee3374"
      },
      "source": [
        "classes = ['covid','virus','normal']\n",
        "\n",
        "print_res(classes, mobileNet_predictions, encode_labels)"
      ],
      "execution_count": null,
      "outputs": [
        {
          "output_type": "stream",
          "name": "stdout",
          "text": [
            "              precision    recall  f1-score   support\n",
            "\n",
            "           0       0.93      0.67      0.78       536\n",
            "           1       0.70      0.99      0.82       619\n",
            "           2       0.95      0.79      0.87       668\n",
            "\n",
            "    accuracy                           0.82      1823\n",
            "   macro avg       0.86      0.82      0.82      1823\n",
            "weighted avg       0.86      0.82      0.82      1823\n",
            "\n"
          ]
        },
        {
          "output_type": "display_data",
          "data": {
            "image/png": "[encoded data removed]",
            "text/plain": [
              "<Figure size 432x288 with 2 Axes>"
            ]
          },
          "metadata": {
            "needs_background": "light"
          }
        }
      ]
    },
    {
      "cell_type": "code",
      "metadata": {
        "id": "gUmCU-lPtYI6"
      },
      "source": [
        "prediction = efficientNet.predict(data)"
      ],
      "execution_count": null,
      "outputs": []
    },
    {
      "cell_type": "code",
      "metadata": {
        "id": "qlHg1xhTthEH"
      },
      "source": [
        "efficientNet_predictions = backend.argmax(prediction).numpy()"
      ],
      "execution_count": null,
      "outputs": []
    },
    {
      "cell_type": "code",
      "metadata": {
        "id": "WYt3s_GotlrZ"
      },
      "source": [
        "efficientNet_predictions[efficientNet_predictions == 3] = 1"
      ],
      "execution_count": null,
      "outputs": []
    },
    {
      "cell_type": "code",
      "metadata": {
        "colab": {
          "base_uri": "https://localhost:8080/",
          "height": 535
        },
        "id": "jhckjsdOtn61",
        "outputId": "38b1bd2a-3e53-47ef-fbf7-e2cdc4b06637"
      },
      "source": [
        "classes = ['covid','virus','normal']\n",
        "\n",
        "print_res(classes, efficientNet_predictions, encode_labels)"
      ],
      "execution_count": null,
      "outputs": [
        {
          "output_type": "stream",
          "name": "stderr",
          "text": [
            "/usr/local/lib/python3.7/dist-packages/sklearn/metrics/_classification.py:1272: UndefinedMetricWarning: Precision and F-score are ill-defined and being set to 0.0 in labels with no predicted samples. Use `zero_division` parameter to control this behavior.\n",
            "  _warn_prf(average, modifier, msg_start, len(result))\n"
          ]
        },
        {
          "output_type": "stream",
          "name": "stdout",
          "text": [
            "              precision    recall  f1-score   support\n",
            "\n",
            "           0       0.29      1.00      0.45       536\n",
            "           1       0.00      0.00      0.00       619\n",
            "           2       0.00      0.00      0.00       668\n",
            "\n",
            "    accuracy                           0.29      1823\n",
            "   macro avg       0.10      0.33      0.15      1823\n",
            "weighted avg       0.09      0.29      0.13      1823\n",
            "\n"
          ]
        },
        {
          "output_type": "display_data",
          "data": {
            "image/png": "[encoded data removed]",
            "text/plain": [
              "<Figure size 432x288 with 2 Axes>"
            ]
          },
          "metadata": {
            "needs_background": "light"
          }
        }
      ]
    },
    {
      "cell_type": "code",
      "metadata": {
        "id": "yleKKZ71tp3m"
      },
      "source": [
        ""
      ],
      "execution_count": null,
      "outputs": []
    }
  ]
}